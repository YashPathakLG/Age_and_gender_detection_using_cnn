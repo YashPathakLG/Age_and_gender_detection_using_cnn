{
 "cells": [
  {
   "cell_type": "markdown",
   "id": "f07eaac9",
   "metadata": {},
   "source": [
    "## Importing the Library"
   ]
  },
  {
   "cell_type": "code",
   "execution_count": null,
   "id": "4326de04",
   "metadata": {},
   "outputs": [],
   "source": [
    "import numpy as np\n",
    "import matplotlib.pyplot as plt\n",
    "from keras.models import load_model\n",
    "import cv2"
   ]
  },
  {
   "cell_type": "markdown",
   "id": "30ba8961",
   "metadata": {},
   "source": [
    "## Defining Path and Loading the Model\n",
    "Here we are going to specify the path to the model and the haar cascade file and load them into our program"
   ]
  },
  {
   "cell_type": "markdown",
   "id": "8f8f8b1d",
   "metadata": {},
   "source": [
    "model_path = \"./model.h5\"\n",
    "model = load_model(model_path)\n",
    "output_path = \"\"\n",
    "img_path = \"\"\n",
    "face_cascade = cv2.CascadeClassifier(\"haarcascade_frontalface_default.xml\")"
   ]
  },
  {
   "cell_type": "markdown",
   "id": "a5cbe192",
   "metadata": {},
   "source": [
    "## Finding face and labeling the Image"
   ]
  },
  {
   "cell_type": "code",
   "execution_count": null,
   "id": "dfce7869",
   "metadata": {},
   "outputs": [],
   "source": [
    "pic = cv2.imread(img_path)\n",
    "gray = cv2.cvtColor(pic,cv2.COLOR_BGR2GRAY)\n",
    "faces = face_cascade.detectMultiScale(gray,1.3,5)\n",
    "age_ = []\n",
    "gender_ = []\n",
    "for (x,y,w,h) in faces:\n",
    "  img = gray[y-50:y+40+h,x-10:x+10+w]\n",
    "  img = cv2.cvtColor(img,cv2.COLOR_GRAY2RGB)\n",
    "  img = cv2.resize(img,(200,200))\n",
    "  predict = model.predict(np.array(img).reshape(-1,200,200,3))\n",
    "  age_.append(predict[0])\n",
    "  gender_.append(np.argmax(predict[1]))\n",
    "  gend = np.argmax(predict[1])\n",
    "  if gend == 0:\n",
    "    gend = 'Man'\n",
    "    col = (255,0,0)\n",
    "  else:\n",
    "    gend = 'Woman'\n",
    "    col = (203,12,255)\n",
    "  cv2.rectangle(pic,(x,y),(x+w,y+h),(0,225,0),4)\n",
    "  cv2.putText(pic,\"Age : \"+str(int(predict[0]))+\" / \"+str(gend),(x,y),cv2.FONT_HERSHEY_SIMPLEX,w*0.005,col,4)"
   ]
  },
  {
   "cell_type": "markdown",
   "id": "6717986f",
   "metadata": {},
   "source": [
    "### Display and saving the image "
   ]
  },
  {
   "cell_type": "code",
   "execution_count": null,
   "id": "402aeb76",
   "metadata": {},
   "outputs": [],
   "source": [
    "pic1 = cv2.cvtColor(pic,cv2.COLOR_BGR2RGB)\n",
    "plt.imshow(pic1)\n",
    "plt.show() \n",
    "print(age_,gender_)\n",
    "cv2.imwrite(output_path,pic)"
   ]
  }
 ],
 "metadata": {
  "kernelspec": {
   "display_name": "Python 3",
   "language": "python",
   "name": "python3"
  },
  "language_info": {
   "codemirror_mode": {
    "name": "ipython",
    "version": 3
   },
   "file_extension": ".py",
   "mimetype": "text/x-python",
   "name": "python",
   "nbconvert_exporter": "python",
   "pygments_lexer": "ipython3",
   "version": "3.8.8"
  }
 },
 "nbformat": 4,
 "nbformat_minor": 5
}
