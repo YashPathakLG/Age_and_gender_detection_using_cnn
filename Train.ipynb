{
 "cells": [
  {
   "cell_type": "markdown",
   "metadata": {},
   "source": [
    "# Gender Prediction and Age Estimation Using Convolutional Neural Network\n",
    "In this project we are going to train our CNN model on the UTKFace Dataset."
   ]
  },
  {
   "cell_type": "markdown",
   "metadata": {},
   "source": [
    "## Import Libraries\n",
    "Here we will be importing the required Libraries"
   ]
  },
  {
   "cell_type": "code",
   "execution_count": 1,
   "metadata": {
    "execution": {
     "iopub.execute_input": "2021-07-29T15:01:34.428075Z",
     "iopub.status.busy": "2021-07-29T15:01:34.427789Z",
     "iopub.status.idle": "2021-07-29T15:01:37.751110Z",
     "shell.execute_reply": "2021-07-29T15:01:37.750515Z",
     "shell.execute_reply.started": "2021-07-29T15:01:34.428026Z"
    }
   },
   "outputs": [
    {
     "name": "stderr",
     "output_type": "stream",
     "text": [
      "/opt/conda/lib/python3.6/site-packages/h5py/__init__.py:36: FutureWarning: Conversion of the second argument of issubdtype from `float` to `np.floating` is deprecated. In future, it will be treated as `np.float64 == np.dtype(float).type`.\n",
      "  from ._conv import register_converters as _register_converters\n",
      "Using TensorFlow backend.\n"
     ]
    }
   ],
   "source": [
    "from keras.models import Sequential\n",
    "from keras.models import load_model\n",
    "from keras.models import Model\n",
    "from keras.layers import Conv2D, MaxPool2D, Dense,Flatten\n",
    "from keras.layers import Dropout, BatchNormalization, Input\n",
    "from sklearn.model_selection import train_test_split\n",
    "import matplotlib.pyplot as plt\n",
    "import pandas as pd\n",
    "import numpy as np\n",
    "import os\n",
    "import cv2"
   ]
  },
  {
   "cell_type": "markdown",
   "metadata": {},
   "source": [
    "### Preprocessing the data\n",
    "Here the path to the dataset is defined and important parameters are specified"
   ]
  },
  {
   "cell_type": "code",
   "execution_count": 15,
   "metadata": {
    "execution": {
     "iopub.execute_input": "2021-07-29T15:13:01.186757Z",
     "iopub.status.busy": "2021-07-29T15:13:01.186368Z",
     "iopub.status.idle": "2021-07-29T15:13:01.293706Z",
     "shell.execute_reply": "2021-07-29T15:13:01.292792Z",
     "shell.execute_reply.started": "2021-07-29T15:13:01.186694Z"
    }
   },
   "outputs": [],
   "source": [
    "path = r'../input/utkface-new/UTKFace'\n",
    "epoch = 50\n",
    "lr = 1e-3\n",
    "img_dims = (200,200,3)\n",
    "age = []\n",
    "gender = []\n",
    "pixels = []"
   ]
  },
  {
   "cell_type": "markdown",
   "metadata": {},
   "source": [
    "Now, the images are loaded and the info about the age, gender and pixels are added to the specific lists that will be used further in the model"
   ]
  },
  {
   "cell_type": "code",
   "execution_count": 3,
   "metadata": {
    "execution": {
     "iopub.execute_input": "2021-07-29T15:01:53.508773Z",
     "iopub.status.busy": "2021-07-29T15:01:53.508474Z",
     "iopub.status.idle": "2021-07-29T15:05:24.129735Z",
     "shell.execute_reply": "2021-07-29T15:05:24.129027Z",
     "shell.execute_reply.started": "2021-07-29T15:01:53.508719Z"
    }
   },
   "outputs": [],
   "source": [
    "for img in os.listdir(path):\n",
    "  ages = img.split(\"_\")[0]\n",
    "  genders = img.split(\"_\")[1]\n",
    "  img = cv2.imread(str(path)+\"/\"+str(img))\n",
    "  img = cv2.cvtColor(img,cv2.COLOR_BGR2RGB)\n",
    "  pixels.append(np.array(img))\n",
    "  age.append(np.array(ages))\n",
    "  gender.append(np.array(genders))\n",
    "age = np.array(age,dtype=np.int64)\n",
    "pixels = np.array(pixels)\n",
    "gender = np.array(gender,np.uint64)"
   ]
  },
  {
   "cell_type": "markdown",
   "metadata": {},
   "source": [
    "## Splitting the data\n",
    "The images from the UTKFace dataset is splitted into two sets i.e. training and testing set using the sklearn **train_test_split method**"
   ]
  },
  {
   "cell_type": "code",
   "execution_count": 10,
   "metadata": {
    "execution": {
     "iopub.execute_input": "2021-07-29T15:07:19.080652Z",
     "iopub.status.busy": "2021-07-29T15:07:19.080345Z",
     "iopub.status.idle": "2021-07-29T15:07:21.762773Z",
     "shell.execute_reply": "2021-07-29T15:07:21.762072Z",
     "shell.execute_reply.started": "2021-07-29T15:07:19.080582Z"
    }
   },
   "outputs": [],
   "source": [
    "x_train,x_test,y_train,y_test = train_test_split(pixels,age,random_state=32)\n",
    "x_train_2,x_test_2,y_train_2,y_test_2 = train_test_split(pixels,gender,random_state=32)"
   ]
  },
  {
   "cell_type": "markdown",
   "metadata": {},
   "source": [
    "## Building the model \n",
    "Now its time to build our model by adding layers to it and creating a neural network\n",
    "Here, the following layers have been added to build the model.\n",
    "1. Input Layer - The input layer of a neural network is composed of artificial input neurons, and brings the initial data into the system for further processing by subsequent layers of artificial neurons. \n",
    "2. Convolution Layer - Convo layer is sometimes called feature extractor layer because features of the image are get extracted within this layer.\n",
    "3. Pooling Layer - Pooling layer is used to reduce the spatial volume of input image after convolution. It is used between two convolution layer.\n",
    "4. Batch Normalisation - Batch normalization is a layer that allows every layer of the network to do learning more independently. It is used to normalize the output of the previous layers.\n",
    "5. Flatten Layer - Flatten layers allow you to change the shape of the data from a vector of 2d matrixes (or nd matrices really) into the correct format for a dense layer to interpret.\n",
    "6. Dense Layer - Dense layer is basically used for changing the dimensions of the vector. Dense layers also applies operations like rotation, scaling, translation on the vector."
   ]
  },
  {
   "cell_type": "code",
   "execution_count": 16,
   "metadata": {
    "execution": {
     "iopub.execute_input": "2021-07-29T15:18:18.824415Z",
     "iopub.status.busy": "2021-07-29T15:18:18.824136Z",
     "iopub.status.idle": "2021-07-29T15:18:22.599591Z",
     "shell.execute_reply": "2021-07-29T15:18:22.598936Z",
     "shell.execute_reply.started": "2021-07-29T15:18:18.824363Z"
    }
   },
   "outputs": [],
   "source": [
    "#building the model\n",
    "#adding an input layer\n",
    "input = Input(shape = img_dims)\n",
    "\n",
    "#adding the convolution layers\n",
    "conv1 = Conv2D(120,(3,3),activation=\"relu\")(input)\n",
    "conv2 = Conv2D(100,(3,3),activation=\"relu\")(conv1)\n",
    "\n",
    "#batch normalization\n",
    "batch1 = BatchNormalization()(conv2)\n",
    "\n",
    "#adding a maxpool layer\n",
    "pool3 = MaxPool2D((2,2))(batch1)\n",
    "\n",
    "#adding another convolution layer\n",
    "conv3 = Conv2D(80,(3,3),activation=\"relu\")(pool3)\n",
    "\n",
    "#batch normalization\n",
    "batch2 = BatchNormalization()(conv3)\n",
    "\n",
    "#another maxpool layer to the model\n",
    "pool4 = MaxPool2D((2,2))(batch2)\n",
    "\n",
    "#Flattening the output\n",
    "flt = Flatten()(pool4)"
   ]
  },
  {
   "cell_type": "markdown",
   "metadata": {},
   "source": [
    "Adding the dense layers"
   ]
  },
  {
   "cell_type": "code",
   "execution_count": 17,
   "metadata": {
    "execution": {
     "iopub.execute_input": "2021-07-29T15:18:27.770194Z",
     "iopub.status.busy": "2021-07-29T15:18:27.769917Z",
     "iopub.status.idle": "2021-07-29T15:18:27.880580Z",
     "shell.execute_reply": "2021-07-29T15:18:27.879926Z",
     "shell.execute_reply.started": "2021-07-29T15:18:27.770144Z"
    }
   },
   "outputs": [],
   "source": [
    "def Add_age(flatten):\n",
    "    age = Dense(128,activation=\"relu\")(flatten)\n",
    "    age = Dense(64,activation=\"relu\")(age)\n",
    "    age = Dense(32,activation=\"relu\")(age)\n",
    "    age = Dense(1,activation=\"relu\")(age)\n",
    "    return age\n",
    "    \n",
    "def Add_gender(flatten):\n",
    "    gender = Dense(128,activation=\"relu\")(flatten)\n",
    "    gender = Dense(80,activation=\"relu\")(gender)\n",
    "    gender = Dense(64,activation=\"relu\")(gender)\n",
    "    gender = Dense(32,activation=\"relu\")(gender)\n",
    "    gender = Dropout(0.5)(gender)\n",
    "    gender = Dense(2,activation=\"softmax\")(gender)\n",
    "    return gender\n",
    "\n",
    "age = Add_age(flt)\n",
    "gender = Add_gender(flt)"
   ]
  },
  {
   "cell_type": "markdown",
   "metadata": {},
   "source": [
    "## Compiling and training the model\n",
    "Now, the final step of compiling and fitting the model for training is performed."
   ]
  },
  {
   "cell_type": "code",
   "execution_count": 18,
   "metadata": {
    "execution": {
     "iopub.execute_input": "2021-07-29T15:18:53.182946Z",
     "iopub.status.busy": "2021-07-29T15:18:53.182623Z",
     "iopub.status.idle": "2021-07-29T16:53:56.525557Z",
     "shell.execute_reply": "2021-07-29T16:53:56.524850Z",
     "shell.execute_reply.started": "2021-07-29T15:18:53.182888Z"
    }
   },
   "outputs": [
    {
     "name": "stdout",
     "output_type": "stream",
     "text": [
      "Train on 17781 samples, validate on 5927 samples\n",
      "Epoch 1/50\n",
      "17781/17781 [==============================] - 121s 7ms/step - loss: 381.4054 - dense_4_loss: 380.0941 - dense_9_loss: 1.3113 - dense_4_mean_absolute_error: 14.2503 - dense_4_acc: 0.0213 - dense_9_mean_absolute_error: 0.5000 - dense_9_acc: 0.6678 - val_loss: 245.4348 - val_dense_4_loss: 244.9948 - val_dense_9_loss: 0.4400 - val_dense_4_mean_absolute_error: 11.4083 - val_dense_4_acc: 0.0290 - val_dense_9_mean_absolute_error: 0.5000 - val_dense_9_acc: 0.8026\n",
      "Epoch 2/50\n",
      "17781/17781 [==============================] - 114s 6ms/step - loss: 156.3021 - dense_4_loss: 155.8712 - dense_9_loss: 0.4309 - dense_4_mean_absolute_error: 9.1815 - dense_4_acc: 0.0356 - dense_9_mean_absolute_error: 0.5000 - dense_9_acc: 0.7857 - val_loss: 197.0832 - val_dense_4_loss: 196.7204 - val_dense_9_loss: 0.3629 - val_dense_4_mean_absolute_error: 10.0512 - val_dense_4_acc: 0.0316 - val_dense_9_mean_absolute_error: 0.5000 - val_dense_9_acc: 0.8470\n",
      "Epoch 3/50\n",
      "17781/17781 [==============================] - 113s 6ms/step - loss: 109.1728 - dense_4_loss: 108.8121 - dense_9_loss: 0.3607 - dense_4_mean_absolute_error: 7.7427 - dense_4_acc: 0.0394 - dense_9_mean_absolute_error: 0.5000 - dense_9_acc: 0.8272 - val_loss: 128.7423 - val_dense_4_loss: 128.4377 - val_dense_9_loss: 0.3046 - val_dense_4_mean_absolute_error: 8.2501 - val_dense_4_acc: 0.0418 - val_dense_9_mean_absolute_error: 0.5000 - val_dense_9_acc: 0.8623\n",
      "Epoch 4/50\n",
      "17781/17781 [==============================] - 114s 6ms/step - loss: 80.8990 - dense_4_loss: 80.5914 - dense_9_loss: 0.3076 - dense_4_mean_absolute_error: 6.6807 - dense_4_acc: 0.0462 - dense_9_mean_absolute_error: 0.5000 - dense_9_acc: 0.8600 - val_loss: 171.7502 - val_dense_4_loss: 171.4213 - val_dense_9_loss: 0.3289 - val_dense_4_mean_absolute_error: 10.4059 - val_dense_4_acc: 0.0258 - val_dense_9_mean_absolute_error: 0.5000 - val_dense_9_acc: 0.8617\n",
      "Epoch 5/50\n",
      "17781/17781 [==============================] - 114s 6ms/step - loss: 63.5694 - dense_4_loss: 63.3025 - dense_9_loss: 0.2669 - dense_4_mean_absolute_error: 5.9382 - dense_4_acc: 0.0494 - dense_9_mean_absolute_error: 0.5000 - dense_9_acc: 0.8790 - val_loss: 105.4906 - val_dense_4_loss: 105.1843 - val_dense_9_loss: 0.3063 - val_dense_4_mean_absolute_error: 7.6669 - val_dense_4_acc: 0.0358 - val_dense_9_mean_absolute_error: 0.5000 - val_dense_9_acc: 0.8863\n",
      "Epoch 6/50\n",
      "17781/17781 [==============================] - 114s 6ms/step - loss: 51.5574 - dense_4_loss: 51.3207 - dense_9_loss: 0.2367 - dense_4_mean_absolute_error: 5.3672 - dense_4_acc: 0.0578 - dense_9_mean_absolute_error: 0.5000 - dense_9_acc: 0.8955 - val_loss: 122.9157 - val_dense_4_loss: 122.5452 - val_dense_9_loss: 0.3705 - val_dense_4_mean_absolute_error: 8.3952 - val_dense_4_acc: 0.0363 - val_dense_9_mean_absolute_error: 0.5000 - val_dense_9_acc: 0.8692\n",
      "Epoch 7/50\n",
      "17781/17781 [==============================] - 114s 6ms/step - loss: 41.5535 - dense_4_loss: 41.3380 - dense_9_loss: 0.2155 - dense_4_mean_absolute_error: 4.8456 - dense_4_acc: 0.0633 - dense_9_mean_absolute_error: 0.5000 - dense_9_acc: 0.9102 - val_loss: 116.3180 - val_dense_4_loss: 116.0242 - val_dense_9_loss: 0.2939 - val_dense_4_mean_absolute_error: 7.6949 - val_dense_4_acc: 0.0422 - val_dense_9_mean_absolute_error: 0.5000 - val_dense_9_acc: 0.8795\n",
      "Epoch 8/50\n",
      "17781/17781 [==============================] - 114s 6ms/step - loss: 36.1577 - dense_4_loss: 35.9708 - dense_9_loss: 0.1869 - dense_4_mean_absolute_error: 4.4955 - dense_4_acc: 0.0686 - dense_9_mean_absolute_error: 0.5000 - dense_9_acc: 0.9227 - val_loss: 103.3988 - val_dense_4_loss: 103.0712 - val_dense_9_loss: 0.3277 - val_dense_4_mean_absolute_error: 7.2823 - val_dense_4_acc: 0.0479 - val_dense_9_mean_absolute_error: 0.5000 - val_dense_9_acc: 0.8868\n",
      "Epoch 9/50\n",
      "17781/17781 [==============================] - 114s 6ms/step - loss: 32.4578 - dense_4_loss: 32.2592 - dense_9_loss: 0.1985 - dense_4_mean_absolute_error: 4.2301 - dense_4_acc: 0.0751 - dense_9_mean_absolute_error: 0.5000 - dense_9_acc: 0.9209 - val_loss: 114.7087 - val_dense_4_loss: 114.3572 - val_dense_9_loss: 0.3515 - val_dense_4_mean_absolute_error: 7.9808 - val_dense_4_acc: 0.0408 - val_dense_9_mean_absolute_error: 0.5000 - val_dense_9_acc: 0.8588\n",
      "Epoch 10/50\n",
      "17781/17781 [==============================] - 114s 6ms/step - loss: 27.6650 - dense_4_loss: 27.5119 - dense_9_loss: 0.1531 - dense_4_mean_absolute_error: 3.8982 - dense_4_acc: 0.0807 - dense_9_mean_absolute_error: 0.5000 - dense_9_acc: 0.9402 - val_loss: 96.3354 - val_dense_4_loss: 95.9331 - val_dense_9_loss: 0.4023 - val_dense_4_mean_absolute_error: 7.0011 - val_dense_4_acc: 0.0464 - val_dense_9_mean_absolute_error: 0.5000 - val_dense_9_acc: 0.8858\n",
      "Epoch 11/50\n",
      "17781/17781 [==============================] - 114s 6ms/step - loss: 24.3112 - dense_4_loss: 24.1680 - dense_9_loss: 0.1432 - dense_4_mean_absolute_error: 3.6263 - dense_4_acc: 0.0892 - dense_9_mean_absolute_error: 0.5000 - dense_9_acc: 0.9428 - val_loss: 108.9910 - val_dense_4_loss: 108.5377 - val_dense_9_loss: 0.4533 - val_dense_4_mean_absolute_error: 7.3254 - val_dense_4_acc: 0.0552 - val_dense_9_mean_absolute_error: 0.5000 - val_dense_9_acc: 0.8870\n",
      "Epoch 12/50\n",
      "17781/17781 [==============================] - 114s 6ms/step - loss: 20.6480 - dense_4_loss: 20.5226 - dense_9_loss: 0.1254 - dense_4_mean_absolute_error: 3.3502 - dense_4_acc: 0.0958 - dense_9_mean_absolute_error: 0.5000 - dense_9_acc: 0.9539 - val_loss: 101.2136 - val_dense_4_loss: 100.6903 - val_dense_9_loss: 0.5233 - val_dense_4_mean_absolute_error: 7.3465 - val_dense_4_acc: 0.0477 - val_dense_9_mean_absolute_error: 0.5000 - val_dense_9_acc: 0.8770\n",
      "Epoch 13/50\n",
      "17781/17781 [==============================] - 114s 6ms/step - loss: 18.2105 - dense_4_loss: 18.1151 - dense_9_loss: 0.0955 - dense_4_mean_absolute_error: 3.1337 - dense_4_acc: 0.1067 - dense_9_mean_absolute_error: 0.5000 - dense_9_acc: 0.9626 - val_loss: 92.0391 - val_dense_4_loss: 91.5505 - val_dense_9_loss: 0.4886 - val_dense_4_mean_absolute_error: 6.8542 - val_dense_4_acc: 0.0575 - val_dense_9_mean_absolute_error: 0.5000 - val_dense_9_acc: 0.8787\n",
      "Epoch 14/50\n",
      "17781/17781 [==============================] - 114s 6ms/step - loss: 16.4708 - dense_4_loss: 16.3822 - dense_9_loss: 0.0886 - dense_4_mean_absolute_error: 2.9622 - dense_4_acc: 0.1129 - dense_9_mean_absolute_error: 0.5000 - dense_9_acc: 0.9658 - val_loss: 108.5044 - val_dense_4_loss: 108.0798 - val_dense_9_loss: 0.4246 - val_dense_4_mean_absolute_error: 7.3963 - val_dense_4_acc: 0.0528 - val_dense_9_mean_absolute_error: 0.5000 - val_dense_9_acc: 0.8778\n",
      "Epoch 15/50\n",
      "17781/17781 [==============================] - 114s 6ms/step - loss: 16.1958 - dense_4_loss: 16.1181 - dense_9_loss: 0.0778 - dense_4_mean_absolute_error: 2.9137 - dense_4_acc: 0.1154 - dense_9_mean_absolute_error: 0.5000 - dense_9_acc: 0.9712 - val_loss: 100.4034 - val_dense_4_loss: 99.7228 - val_dense_9_loss: 0.6806 - val_dense_4_mean_absolute_error: 7.0478 - val_dense_4_acc: 0.0567 - val_dense_9_mean_absolute_error: 0.5000 - val_dense_9_acc: 0.8865\n",
      "Epoch 16/50\n",
      "17781/17781 [==============================] - 114s 6ms/step - loss: 14.7299 - dense_4_loss: 14.6551 - dense_9_loss: 0.0748 - dense_4_mean_absolute_error: 2.7833 - dense_4_acc: 0.1226 - dense_9_mean_absolute_error: 0.5000 - dense_9_acc: 0.9768 - val_loss: 90.7125 - val_dense_4_loss: 90.2081 - val_dense_9_loss: 0.5044 - val_dense_4_mean_absolute_error: 6.6849 - val_dense_4_acc: 0.0612 - val_dense_9_mean_absolute_error: 0.5000 - val_dense_9_acc: 0.8989\n",
      "Epoch 17/50\n",
      "17781/17781 [==============================] - 114s 6ms/step - loss: 13.2963 - dense_4_loss: 13.2266 - dense_9_loss: 0.0696 - dense_4_mean_absolute_error: 2.6261 - dense_4_acc: 0.1342 - dense_9_mean_absolute_error: 0.5000 - dense_9_acc: 0.9774 - val_loss: 92.7721 - val_dense_4_loss: 92.0726 - val_dense_9_loss: 0.6995 - val_dense_4_mean_absolute_error: 6.7904 - val_dense_4_acc: 0.0678 - val_dense_9_mean_absolute_error: 0.5000 - val_dense_9_acc: 0.8876\n",
      "Epoch 18/50\n",
      "17781/17781 [==============================] - 114s 6ms/step - loss: 12.5838 - dense_4_loss: 12.5234 - dense_9_loss: 0.0604 - dense_4_mean_absolute_error: 2.5593 - dense_4_acc: 0.1324 - dense_9_mean_absolute_error: 0.5000 - dense_9_acc: 0.9762 - val_loss: 89.3849 - val_dense_4_loss: 88.6352 - val_dense_9_loss: 0.7497 - val_dense_4_mean_absolute_error: 6.5983 - val_dense_4_acc: 0.0673 - val_dense_9_mean_absolute_error: 0.5000 - val_dense_9_acc: 0.8996\n",
      "Epoch 19/50\n",
      "17781/17781 [==============================] - 114s 6ms/step - loss: 12.3523 - dense_4_loss: 12.3007 - dense_9_loss: 0.0516 - dense_4_mean_absolute_error: 2.5050 - dense_4_acc: 0.1421 - dense_9_mean_absolute_error: 0.5000 - dense_9_acc: 0.9810 - val_loss: 88.8413 - val_dense_4_loss: 88.3098 - val_dense_9_loss: 0.5315 - val_dense_4_mean_absolute_error: 6.5733 - val_dense_4_acc: 0.0643 - val_dense_9_mean_absolute_error: 0.5000 - val_dense_9_acc: 0.8954\n",
      "Epoch 20/50\n",
      "17781/17781 [==============================] - 114s 6ms/step - loss: 11.6204 - dense_4_loss: 11.5663 - dense_9_loss: 0.0541 - dense_4_mean_absolute_error: 2.4104 - dense_4_acc: 0.1471 - dense_9_mean_absolute_error: 0.5000 - dense_9_acc: 0.9834 - val_loss: 96.6227 - val_dense_4_loss: 95.9061 - val_dense_9_loss: 0.7166 - val_dense_4_mean_absolute_error: 6.8963 - val_dense_4_acc: 0.0702 - val_dense_9_mean_absolute_error: 0.5000 - val_dense_9_acc: 0.8826\n",
      "Epoch 21/50\n",
      "17781/17781 [==============================] - 114s 6ms/step - loss: 9.6562 - dense_4_loss: 9.5971 - dense_9_loss: 0.0591 - dense_4_mean_absolute_error: 2.2192 - dense_4_acc: 0.1585 - dense_9_mean_absolute_error: 0.5000 - dense_9_acc: 0.9806 - val_loss: 92.9556 - val_dense_4_loss: 92.2765 - val_dense_9_loss: 0.6791 - val_dense_4_mean_absolute_error: 6.8030 - val_dense_4_acc: 0.0668 - val_dense_9_mean_absolute_error: 0.5000 - val_dense_9_acc: 0.8795\n",
      "Epoch 22/50\n",
      "17781/17781 [==============================] - 114s 6ms/step - loss: 9.4557 - dense_4_loss: 9.4116 - dense_9_loss: 0.0441 - dense_4_mean_absolute_error: 2.1817 - dense_4_acc: 0.1615 - dense_9_mean_absolute_error: 0.5000 - dense_9_acc: 0.9838 - val_loss: 90.3014 - val_dense_4_loss: 89.4990 - val_dense_9_loss: 0.8025 - val_dense_4_mean_absolute_error: 6.6174 - val_dense_4_acc: 0.0682 - val_dense_9_mean_absolute_error: 0.5000 - val_dense_9_acc: 0.8907\n",
      "Epoch 23/50\n",
      "17781/17781 [==============================] - 114s 6ms/step - loss: 8.8601 - dense_4_loss: 8.8000 - dense_9_loss: 0.0600 - dense_4_mean_absolute_error: 2.1162 - dense_4_acc: 0.1652 - dense_9_mean_absolute_error: 0.5000 - dense_9_acc: 0.9832 - val_loss: 90.0740 - val_dense_4_loss: 89.4279 - val_dense_9_loss: 0.6461 - val_dense_4_mean_absolute_error: 6.6699 - val_dense_4_acc: 0.0693 - val_dense_9_mean_absolute_error: 0.5000 - val_dense_9_acc: 0.8967\n",
      "Epoch 24/50\n",
      "17781/17781 [==============================] - 114s 6ms/step - loss: 7.9198 - dense_4_loss: 7.8787 - dense_9_loss: 0.0411 - dense_4_mean_absolute_error: 1.9867 - dense_4_acc: 0.1872 - dense_9_mean_absolute_error: 0.5000 - dense_9_acc: 0.9887 - val_loss: 93.5344 - val_dense_4_loss: 92.7565 - val_dense_9_loss: 0.7779 - val_dense_4_mean_absolute_error: 6.7310 - val_dense_4_acc: 0.0761 - val_dense_9_mean_absolute_error: 0.5000 - val_dense_9_acc: 0.8925\n",
      "Epoch 25/50\n",
      "17781/17781 [==============================] - 114s 6ms/step - loss: 8.4813 - dense_4_loss: 8.4314 - dense_9_loss: 0.0499 - dense_4_mean_absolute_error: 2.0606 - dense_4_acc: 0.1755 - dense_9_mean_absolute_error: 0.5000 - dense_9_acc: 0.9817 - val_loss: 93.9377 - val_dense_4_loss: 92.9569 - val_dense_9_loss: 0.9808 - val_dense_4_mean_absolute_error: 6.9923 - val_dense_4_acc: 0.0698 - val_dense_9_mean_absolute_error: 0.5000 - val_dense_9_acc: 0.8929\n",
      "Epoch 26/50\n",
      "17781/17781 [==============================] - 114s 6ms/step - loss: 8.0476 - dense_4_loss: 8.0037 - dense_9_loss: 0.0439 - dense_4_mean_absolute_error: 1.9975 - dense_4_acc: 0.1859 - dense_9_mean_absolute_error: 0.5000 - dense_9_acc: 0.9867 - val_loss: 93.9020 - val_dense_4_loss: 93.1137 - val_dense_9_loss: 0.7883 - val_dense_4_mean_absolute_error: 6.7166 - val_dense_4_acc: 0.0864 - val_dense_9_mean_absolute_error: 0.5000 - val_dense_9_acc: 0.8917\n",
      "Epoch 27/50\n",
      "17781/17781 [==============================] - 114s 6ms/step - loss: 7.6389 - dense_4_loss: 7.5961 - dense_9_loss: 0.0429 - dense_4_mean_absolute_error: 1.9400 - dense_4_acc: 0.1930 - dense_9_mean_absolute_error: 0.5000 - dense_9_acc: 0.9865 - val_loss: 86.5461 - val_dense_4_loss: 85.4990 - val_dense_9_loss: 1.0471 - val_dense_4_mean_absolute_error: 6.4991 - val_dense_4_acc: 0.0795 - val_dense_9_mean_absolute_error: 0.5000 - val_dense_9_acc: 0.8939\n",
      "Epoch 28/50\n",
      "17781/17781 [==============================] - 114s 6ms/step - loss: 7.1985 - dense_4_loss: 7.1500 - dense_9_loss: 0.0485 - dense_4_mean_absolute_error: 1.8773 - dense_4_acc: 0.1968 - dense_9_mean_absolute_error: 0.5000 - dense_9_acc: 0.9864 - val_loss: 90.0009 - val_dense_4_loss: 88.9369 - val_dense_9_loss: 1.0640 - val_dense_4_mean_absolute_error: 6.6739 - val_dense_4_acc: 0.0761 - val_dense_9_mean_absolute_error: 0.5000 - val_dense_9_acc: 0.8920\n",
      "Epoch 29/50\n",
      "17781/17781 [==============================] - 114s 6ms/step - loss: 6.5093 - dense_4_loss: 6.4649 - dense_9_loss: 0.0443 - dense_4_mean_absolute_error: 1.7879 - dense_4_acc: 0.2143 - dense_9_mean_absolute_error: 0.5000 - dense_9_acc: 0.9850 - val_loss: 87.2916 - val_dense_4_loss: 86.2399 - val_dense_9_loss: 1.0517 - val_dense_4_mean_absolute_error: 6.6029 - val_dense_4_acc: 0.0744 - val_dense_9_mean_absolute_error: 0.5000 - val_dense_9_acc: 0.8999\n",
      "Epoch 30/50\n",
      "17781/17781 [==============================] - 114s 6ms/step - loss: 6.4569 - dense_4_loss: 6.4238 - dense_9_loss: 0.0331 - dense_4_mean_absolute_error: 1.7775 - dense_4_acc: 0.2122 - dense_9_mean_absolute_error: 0.5000 - dense_9_acc: 0.9896 - val_loss: 87.5575 - val_dense_4_loss: 86.6185 - val_dense_9_loss: 0.9391 - val_dense_4_mean_absolute_error: 6.5950 - val_dense_4_acc: 0.0758 - val_dense_9_mean_absolute_error: 0.5000 - val_dense_9_acc: 0.9030\n",
      "Epoch 31/50\n",
      "17781/17781 [==============================] - 114s 6ms/step - loss: 6.7746 - dense_4_loss: 6.7373 - dense_9_loss: 0.0373 - dense_4_mean_absolute_error: 1.8187 - dense_4_acc: 0.2080 - dense_9_mean_absolute_error: 0.5000 - dense_9_acc: 0.9900 - val_loss: 89.4682 - val_dense_4_loss: 88.4681 - val_dense_9_loss: 1.0001 - val_dense_4_mean_absolute_error: 6.6506 - val_dense_4_acc: 0.0705 - val_dense_9_mean_absolute_error: 0.5000 - val_dense_9_acc: 0.8925\n",
      "Epoch 32/50\n",
      "17781/17781 [==============================] - 114s 6ms/step - loss: 6.3974 - dense_4_loss: 6.3348 - dense_9_loss: 0.0626 - dense_4_mean_absolute_error: 1.7605 - dense_4_acc: 0.2166 - dense_9_mean_absolute_error: 0.5000 - dense_9_acc: 0.9828 - val_loss: 90.6186 - val_dense_4_loss: 89.8483 - val_dense_9_loss: 0.7703 - val_dense_4_mean_absolute_error: 6.7185 - val_dense_4_acc: 0.0729 - val_dense_9_mean_absolute_error: 0.5000 - val_dense_9_acc: 0.8925\n",
      "Epoch 33/50\n",
      "17781/17781 [==============================] - 114s 6ms/step - loss: 6.1778 - dense_4_loss: 6.1430 - dense_9_loss: 0.0348 - dense_4_mean_absolute_error: 1.7023 - dense_4_acc: 0.2279 - dense_9_mean_absolute_error: 0.5000 - dense_9_acc: 0.9885 - val_loss: 86.9149 - val_dense_4_loss: 85.9676 - val_dense_9_loss: 0.9473 - val_dense_4_mean_absolute_error: 6.5587 - val_dense_4_acc: 0.0783 - val_dense_9_mean_absolute_error: 0.5000 - val_dense_9_acc: 0.8944\n",
      "Epoch 34/50\n",
      "17781/17781 [==============================] - 114s 6ms/step - loss: 5.3842 - dense_4_loss: 5.3507 - dense_9_loss: 0.0334 - dense_4_mean_absolute_error: 1.6180 - dense_4_acc: 0.2335 - dense_9_mean_absolute_error: 0.5000 - dense_9_acc: 0.9904 - val_loss: 90.5380 - val_dense_4_loss: 89.7797 - val_dense_9_loss: 0.7582 - val_dense_4_mean_absolute_error: 6.6092 - val_dense_4_acc: 0.0877 - val_dense_9_mean_absolute_error: 0.5000 - val_dense_9_acc: 0.8993\n",
      "Epoch 35/50\n",
      "17781/17781 [==============================] - 114s 6ms/step - loss: 5.0805 - dense_4_loss: 5.0550 - dense_9_loss: 0.0256 - dense_4_mean_absolute_error: 1.5813 - dense_4_acc: 0.2320 - dense_9_mean_absolute_error: 0.5000 - dense_9_acc: 0.9921 - val_loss: 86.9524 - val_dense_4_loss: 86.1356 - val_dense_9_loss: 0.8168 - val_dense_4_mean_absolute_error: 6.5715 - val_dense_4_acc: 0.0786 - val_dense_9_mean_absolute_error: 0.5000 - val_dense_9_acc: 0.8976\n",
      "Epoch 36/50\n",
      "17781/17781 [==============================] - 114s 6ms/step - loss: 5.3192 - dense_4_loss: 5.2914 - dense_9_loss: 0.0278 - dense_4_mean_absolute_error: 1.5898 - dense_4_acc: 0.2349 - dense_9_mean_absolute_error: 0.5000 - dense_9_acc: 0.9921 - val_loss: 89.5384 - val_dense_4_loss: 88.6318 - val_dense_9_loss: 0.9066 - val_dense_4_mean_absolute_error: 6.6613 - val_dense_4_acc: 0.0572 - val_dense_9_mean_absolute_error: 0.5000 - val_dense_9_acc: 0.8989\n",
      "Epoch 37/50\n",
      "17781/17781 [==============================] - 114s 6ms/step - loss: 5.1874 - dense_4_loss: 5.1579 - dense_9_loss: 0.0294 - dense_4_mean_absolute_error: 1.5729 - dense_4_acc: 0.2351 - dense_9_mean_absolute_error: 0.5000 - dense_9_acc: 0.9915 - val_loss: 84.7411 - val_dense_4_loss: 83.8413 - val_dense_9_loss: 0.8998 - val_dense_4_mean_absolute_error: 6.4187 - val_dense_4_acc: 0.0891 - val_dense_9_mean_absolute_error: 0.5000 - val_dense_9_acc: 0.8940\n",
      "Epoch 38/50\n",
      "17781/17781 [==============================] - 114s 6ms/step - loss: 4.9519 - dense_4_loss: 4.9166 - dense_9_loss: 0.0353 - dense_4_mean_absolute_error: 1.5103 - dense_4_acc: 0.2532 - dense_9_mean_absolute_error: 0.5000 - dense_9_acc: 0.9896 - val_loss: 85.5412 - val_dense_4_loss: 84.6297 - val_dense_9_loss: 0.9115 - val_dense_4_mean_absolute_error: 6.4540 - val_dense_4_acc: 0.0859 - val_dense_9_mean_absolute_error: 0.5000 - val_dense_9_acc: 0.8939\n",
      "Epoch 39/50\n",
      "17781/17781 [==============================] - 114s 6ms/step - loss: 4.7427 - dense_4_loss: 4.7081 - dense_9_loss: 0.0346 - dense_4_mean_absolute_error: 1.4612 - dense_4_acc: 0.2625 - dense_9_mean_absolute_error: 0.5000 - dense_9_acc: 0.9895 - val_loss: 86.0809 - val_dense_4_loss: 85.2932 - val_dense_9_loss: 0.7877 - val_dense_4_mean_absolute_error: 6.6171 - val_dense_4_acc: 0.0643 - val_dense_9_mean_absolute_error: 0.5000 - val_dense_9_acc: 0.8915\n",
      "Epoch 40/50\n",
      "17781/17781 [==============================] - 114s 6ms/step - loss: 4.9258 - dense_4_loss: 4.9035 - dense_9_loss: 0.0223 - dense_4_mean_absolute_error: 1.5141 - dense_4_acc: 0.2484 - dense_9_mean_absolute_error: 0.5000 - dense_9_acc: 0.9934 - val_loss: 92.8560 - val_dense_4_loss: 91.8275 - val_dense_9_loss: 1.0285 - val_dense_4_mean_absolute_error: 6.7395 - val_dense_4_acc: 0.0830 - val_dense_9_mean_absolute_error: 0.5000 - val_dense_9_acc: 0.8967\n",
      "Epoch 41/50\n",
      "17781/17781 [==============================] - 114s 6ms/step - loss: 4.4889 - dense_4_loss: 4.4650 - dense_9_loss: 0.0239 - dense_4_mean_absolute_error: 1.4477 - dense_4_acc: 0.2578 - dense_9_mean_absolute_error: 0.5000 - dense_9_acc: 0.9927 - val_loss: 84.1873 - val_dense_4_loss: 83.2286 - val_dense_9_loss: 0.9587 - val_dense_4_mean_absolute_error: 6.4229 - val_dense_4_acc: 0.0839 - val_dense_9_mean_absolute_error: 0.5000 - val_dense_9_acc: 0.8959\n",
      "Epoch 42/50\n",
      "17781/17781 [==============================] - 114s 6ms/step - loss: 4.2981 - dense_4_loss: 4.2663 - dense_9_loss: 0.0319 - dense_4_mean_absolute_error: 1.4138 - dense_4_acc: 0.2678 - dense_9_mean_absolute_error: 0.5000 - dense_9_acc: 0.9911 - val_loss: 86.3228 - val_dense_4_loss: 85.1996 - val_dense_9_loss: 1.1232 - val_dense_4_mean_absolute_error: 6.5313 - val_dense_4_acc: 0.0746 - val_dense_9_mean_absolute_error: 0.5000 - val_dense_9_acc: 0.9008\n",
      "Epoch 43/50\n",
      "17781/17781 [==============================] - 114s 6ms/step - loss: 4.3795 - dense_4_loss: 4.3596 - dense_9_loss: 0.0198 - dense_4_mean_absolute_error: 1.4413 - dense_4_acc: 0.2550 - dense_9_mean_absolute_error: 0.5000 - dense_9_acc: 0.9944 - val_loss: 86.0178 - val_dense_4_loss: 84.9698 - val_dense_9_loss: 1.0479 - val_dense_4_mean_absolute_error: 6.4759 - val_dense_4_acc: 0.0788 - val_dense_9_mean_absolute_error: 0.5000 - val_dense_9_acc: 0.8927\n",
      "Epoch 44/50\n",
      "17781/17781 [==============================] - 114s 6ms/step - loss: 4.4289 - dense_4_loss: 4.3896 - dense_9_loss: 0.0393 - dense_4_mean_absolute_error: 1.4314 - dense_4_acc: 0.2588 - dense_9_mean_absolute_error: 0.5000 - dense_9_acc: 0.9888 - val_loss: 85.1368 - val_dense_4_loss: 84.0547 - val_dense_9_loss: 1.0822 - val_dense_4_mean_absolute_error: 6.4217 - val_dense_4_acc: 0.0739 - val_dense_9_mean_absolute_error: 0.5000 - val_dense_9_acc: 0.8962\n",
      "Epoch 45/50\n",
      "17781/17781 [==============================] - 114s 6ms/step - loss: 4.4336 - dense_4_loss: 4.4082 - dense_9_loss: 0.0253 - dense_4_mean_absolute_error: 1.4288 - dense_4_acc: 0.2647 - dense_9_mean_absolute_error: 0.5000 - dense_9_acc: 0.9940 - val_loss: 85.1995 - val_dense_4_loss: 84.2575 - val_dense_9_loss: 0.9420 - val_dense_4_mean_absolute_error: 6.4716 - val_dense_4_acc: 0.0680 - val_dense_9_mean_absolute_error: 0.5000 - val_dense_9_acc: 0.8989\n",
      "Epoch 46/50\n",
      "17781/17781 [==============================] - 114s 6ms/step - loss: 4.0024 - dense_4_loss: 3.9669 - dense_9_loss: 0.0355 - dense_4_mean_absolute_error: 1.3581 - dense_4_acc: 0.2795 - dense_9_mean_absolute_error: 0.5000 - dense_9_acc: 0.9923 - val_loss: 87.7047 - val_dense_4_loss: 86.6012 - val_dense_9_loss: 1.1035 - val_dense_4_mean_absolute_error: 6.6162 - val_dense_4_acc: 0.0783 - val_dense_9_mean_absolute_error: 0.5000 - val_dense_9_acc: 0.8910\n",
      "Epoch 47/50\n",
      "17781/17781 [==============================] - 114s 6ms/step - loss: 3.8410 - dense_4_loss: 3.8044 - dense_9_loss: 0.0366 - dense_4_mean_absolute_error: 1.3266 - dense_4_acc: 0.2887 - dense_9_mean_absolute_error: 0.5000 - dense_9_acc: 0.9925 - val_loss: 85.2050 - val_dense_4_loss: 84.3133 - val_dense_9_loss: 0.8917 - val_dense_4_mean_absolute_error: 6.4656 - val_dense_4_acc: 0.0798 - val_dense_9_mean_absolute_error: 0.5000 - val_dense_9_acc: 0.8902\n",
      "Epoch 48/50\n",
      "17781/17781 [==============================] - 114s 6ms/step - loss: 3.7746 - dense_4_loss: 3.7420 - dense_9_loss: 0.0327 - dense_4_mean_absolute_error: 1.3090 - dense_4_acc: 0.2932 - dense_9_mean_absolute_error: 0.5000 - dense_9_acc: 0.9925 - val_loss: 84.3964 - val_dense_4_loss: 83.4136 - val_dense_9_loss: 0.9828 - val_dense_4_mean_absolute_error: 6.3979 - val_dense_4_acc: 0.0864 - val_dense_9_mean_absolute_error: 0.5000 - val_dense_9_acc: 0.8947\n",
      "Epoch 49/50\n",
      "17781/17781 [==============================] - 114s 6ms/step - loss: 3.7148 - dense_4_loss: 3.6797 - dense_9_loss: 0.0351 - dense_4_mean_absolute_error: 1.2904 - dense_4_acc: 0.2958 - dense_9_mean_absolute_error: 0.5000 - dense_9_acc: 0.9919 - val_loss: 84.6022 - val_dense_4_loss: 83.5524 - val_dense_9_loss: 1.0498 - val_dense_4_mean_absolute_error: 6.4063 - val_dense_4_acc: 0.0801 - val_dense_9_mean_absolute_error: 0.5000 - val_dense_9_acc: 0.8699\n",
      "Epoch 50/50\n",
      "17781/17781 [==============================] - 114s 6ms/step - loss: 3.5465 - dense_4_loss: 3.5194 - dense_9_loss: 0.0270 - dense_4_mean_absolute_error: 1.2644 - dense_4_acc: 0.3021 - dense_9_mean_absolute_error: 0.5000 - dense_9_acc: 0.9934 - val_loss: 83.9021 - val_dense_4_loss: 82.5706 - val_dense_9_loss: 1.3315 - val_dense_4_mean_absolute_error: 6.4328 - val_dense_4_acc: 0.0705 - val_dense_9_mean_absolute_error: 0.5000 - val_dense_9_acc: 0.8947\n"
     ]
    }
   ],
   "source": [
    "model = Model(inputs=input,\n",
    "              outputs=[age,gender])\n",
    "\n",
    "model.compile(optimizer=\"adam\",\n",
    "              loss=[\"mse\",\"sparse_categorical_crossentropy\"],\n",
    "              metrics=['mae','accuracy'])\n",
    "\n",
    "history = model.fit(x_train,[y_train,y_train_2],\n",
    "                 validation_data=(x_test,[y_test,y_test_2]),\n",
    "                 epochs=epoch)"
   ]
  },
  {
   "cell_type": "markdown",
   "metadata": {},
   "source": [
    "## Saving the model\n",
    "Now, we will save the model so that we can use it in the future."
   ]
  },
  {
   "cell_type": "code",
   "execution_count": null,
   "metadata": {},
   "outputs": [],
   "source": [
    "model.save(\"model.h5\")"
   ]
  },
  {
   "cell_type": "markdown",
   "metadata": {},
   "source": [
    "## Plot the Metrics\n",
    "Here we will plot the metrics i.e. The Accuracy and Loss"
   ]
  },
  {
   "cell_type": "code",
   "execution_count": null,
   "metadata": {},
   "outputs": [],
   "source": [
    "# summarize history for accuracy\n",
    "plt.plot(history.history['accuracy'])\n",
    "plt.plot(history.history['val_accuracy'])\n",
    "plt.title('model accuracy')\n",
    "plt.ylabel('accuracy')\n",
    "plt.xlabel('epoch')\n",
    "plt.legend(['train', 'test'], loc='upper left')\n",
    "plt.savefig(\"Accuracy\")\n",
    "\n",
    "# summarize history for loss\n",
    "plt.plot(history.history['loss'])\n",
    "plt.plot(history.history['val_loss'])\n",
    "plt.title('model loss')\n",
    "plt.ylabel('loss')\n",
    "plt.xlabel('epoch')\n",
    "plt.legend(['train', 'test'], loc='upper left')\n",
    "plt.savefig(\"Loss\")"
   ]
  }
 ],
 "metadata": {
  "kernelspec": {
   "display_name": "Python 3",
   "language": "python",
   "name": "python3"
  },
  "language_info": {
   "codemirror_mode": {
    "name": "ipython",
    "version": 3
   },
   "file_extension": ".py",
   "mimetype": "text/x-python",
   "name": "python",
   "nbconvert_exporter": "python",
   "pygments_lexer": "ipython3",
   "version": "3.8.8"
  }
 },
 "nbformat": 4,
 "nbformat_minor": 4
}
